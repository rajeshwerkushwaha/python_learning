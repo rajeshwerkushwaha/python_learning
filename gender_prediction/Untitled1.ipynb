{
 "cells": [
  {
   "cell_type": "code",
   "execution_count": 2,
   "metadata": {},
   "outputs": [],
   "source": [
    "import modin.pandas as pd"
   ]
  },
  {
   "cell_type": "code",
   "execution_count": 26,
   "metadata": {},
   "outputs": [
    {
     "name": "stdout",
     "output_type": "stream",
     "text": [
      "Pandas Concat Time = 0.0015139579772949219\n"
     ]
    }
   ],
   "source": [
    "import pandas as pd\n",
    "import time\n",
    "df = pd.read_csv(\"data.csv\")\n",
    "\n",
    "s = time.time()\n",
    "df = pd.concat([df for _ in range(5)])\n",
    "e = time.time()\n",
    "print(\"Pandas Concat Time = {}\".format(e-s))"
   ]
  },
  {
   "cell_type": "code",
   "execution_count": 14,
   "metadata": {},
   "outputs": [
    {
     "name": "stdout",
     "output_type": "stream",
     "text": [
      "Modin Concat Time = 0.0008711814880371094\n"
     ]
    }
   ],
   "source": [
    "import modin.pandas as pd\n",
    "import time\n",
    "df = pd.read_csv(\"data.csv\")\n",
    "\n",
    "s = time.time()\n",
    "df = pd.concat([df for _ in range(5)])\n",
    "e = time.time()\n",
    "print(\"Modin Concat Time = {}\".format(e-s))"
   ]
  },
  {
   "cell_type": "code",
   "execution_count": 27,
   "metadata": {},
   "outputs": [],
   "source": [
    "import pandas as pd"
   ]
  },
  {
   "cell_type": "code",
   "execution_count": 28,
   "metadata": {},
   "outputs": [
    {
     "data": {
      "text/html": [
       "<div>\n",
       "<style scoped>\n",
       "    .dataframe tbody tr th:only-of-type {\n",
       "        vertical-align: middle;\n",
       "    }\n",
       "\n",
       "    .dataframe tbody tr th {\n",
       "        vertical-align: top;\n",
       "    }\n",
       "\n",
       "    .dataframe thead th {\n",
       "        text-align: right;\n",
       "    }\n",
       "</style>\n",
       "<table border=\"1\" class=\"dataframe\">\n",
       "  <thead>\n",
       "    <tr style=\"text-align: right;\">\n",
       "      <th></th>\n",
       "      <th>0</th>\n",
       "      <th>1</th>\n",
       "    </tr>\n",
       "  </thead>\n",
       "  <tbody>\n",
       "    <tr>\n",
       "      <th>0</th>\n",
       "      <td>10</td>\n",
       "      <td>rajesh</td>\n",
       "    </tr>\n",
       "    <tr>\n",
       "      <th>0</th>\n",
       "      <td>10</td>\n",
       "      <td>rajesh</td>\n",
       "    </tr>\n",
       "    <tr>\n",
       "      <th>0</th>\n",
       "      <td>10</td>\n",
       "      <td>rajesh</td>\n",
       "    </tr>\n",
       "    <tr>\n",
       "      <th>0</th>\n",
       "      <td>10</td>\n",
       "      <td>rajesh</td>\n",
       "    </tr>\n",
       "    <tr>\n",
       "      <th>0</th>\n",
       "      <td>10</td>\n",
       "      <td>rajesh</td>\n",
       "    </tr>\n",
       "  </tbody>\n",
       "</table>\n",
       "</div>"
      ],
      "text/plain": [
       "    0       1\n",
       "0  10  rajesh\n",
       "0  10  rajesh\n",
       "0  10  rajesh\n",
       "0  10  rajesh\n",
       "0  10  rajesh"
      ]
     },
     "execution_count": 28,
     "metadata": {},
     "output_type": "execute_result"
    }
   ],
   "source": [
    "df = pd.DataFrame([[10,'rajesh']])\n",
    "pd.concat([df for _ in range(5)])"
   ]
  },
  {
   "cell_type": "code",
   "execution_count": 33,
   "metadata": {},
   "outputs": [
    {
     "name": "stdout",
     "output_type": "stream",
     "text": [
      "0a\n"
     ]
    }
   ],
   "source": [
    "print('{0:02x}'.format(10))"
   ]
  },
  {
   "cell_type": "code",
   "execution_count": 35,
   "metadata": {},
   "outputs": [
    {
     "name": "stdout",
     "output_type": "stream",
     "text": [
      "63\n"
     ]
    }
   ],
   "source": []
  },
  {
   "cell_type": "code",
   "execution_count": 45,
   "metadata": {},
   "outputs": [
    {
     "data": {
      "text/plain": [
       "6"
      ]
     },
     "execution_count": 45,
     "metadata": {},
     "output_type": "execute_result"
    }
   ],
   "source": [
    "def sum(arr):\n",
    "    sum1=0\n",
    "    if len(arr)==2:\n",
    "        sum1 = arr[0]+arr[1]\n",
    "        return sum1\n",
    "    else:\n",
    "        arr1=[arr[0],arr[1]]\n",
    "        arr=[sum(arr1), arr[2]]\n",
    "        return sum(arr)\n",
    "sum([1,3,2])"
   ]
  },
  {
   "cell_type": "code",
   "execution_count": 65,
   "metadata": {},
   "outputs": [
    {
     "name": "stdout",
     "output_type": "stream",
     "text": [
      "1\n",
      "-1\n",
      "2\n"
     ]
    }
   ],
   "source": [
    "arr=[1,2,3]\n",
    "sum1=0\n",
    "for i in range(0,len(arr)):\n",
    "    if i%2==1: arr[i]=arr[i]*-1\n",
    "    sum1 += arr[i]\n",
    "    print(sum1)"
   ]
  },
  {
   "cell_type": "code",
   "execution_count": 90,
   "metadata": {},
   "outputs": [
    {
     "name": "stdout",
     "output_type": "stream",
     "text": [
      "False\n"
     ]
    }
   ],
   "source": [
    "def is_merge(s, part1, part2):\n",
    "    status = True\n",
    "    if len(s) != len(part1)+len(part2):\n",
    "        status = False \n",
    "    \n",
    "    return status\n",
    "\n",
    "print(is_merge('codewars', 'code', 'war'))"
   ]
  },
  {
   "cell_type": "code",
   "execution_count": 129,
   "metadata": {},
   "outputs": [
    {
     "name": "stdout",
     "output_type": "stream",
     "text": [
      "dict_keys([10, 5, 15])\n",
      "[5, 10, 15]\n"
     ]
    }
   ],
   "source": [
    "d1 = {10:'rajesh', 5:'mukesh', 15:'deepak'}\n",
    "print(d1.keys())\n",
    "print(sorted(d1.keys()))"
   ]
  },
  {
   "cell_type": "code",
   "execution_count": 158,
   "metadata": {},
   "outputs": [
    {
     "name": "stdout",
     "output_type": "stream",
     "text": [
      "l1:  [[1, 1], 2, 3]\n",
      "l1_s:  [[1, 1], 2, 3]\n",
      "l1_d:  [[1, 1], 2, 3]\n",
      "l1:  [[11, 1], 2, 3]\n",
      "l1_s:  [[11, 1], 2, 3]\n",
      "l1_d:  [[1, 1], 2, 3]\n"
     ]
    }
   ],
   "source": [
    "import copy\n",
    "l1=[[1,1],2,3]\n",
    "l1_s=copy.copy(l1)\n",
    "l1_d=copy.deepcopy(l1)\n",
    "print('l1: ',l1)\n",
    "print('l1_s: ',l1_s)\n",
    "print('l1_d: ',l1_d)\n",
    "l1_s[0][0]=11\n",
    "print('l1: ',l1)\n",
    "print('l1_s: ',l1_s)\n",
    "print('l1_d: ',l1_d)"
   ]
  },
  {
   "cell_type": "code",
   "execution_count": 160,
   "metadata": {},
   "outputs": [
    {
     "name": "stdout",
     "output_type": "stream",
     "text": [
      "The new list created using list.copy() : [[11, 1], 2, 3, 4, 5]\n",
      "The new list created using copy.copy() : [[11, 1], 2, 3, 4, 5]\n",
      "The new list created using slicing : [[11, 1], 2, 3, 4, 5]\n",
      "The old list after adding new element to new list : [[11, 1], 2, 3, 4]\n"
     ]
    }
   ],
   "source": [
    "import copy \n",
    "\n",
    "# Initializing list \n",
    "lis1 = [ [1,1], 2, 3, 4 ] \n",
    "\n",
    "# Using shallow copy techniques to create a shallow copy \n",
    "lis2 = lis1.copy() \n",
    "lis3 = copy.copy(lis1) \n",
    "lis4 = lis1[:] \n",
    "\n",
    "# Adding new element to new lists \n",
    "lis3[0][0]=11\n",
    "lis2.append(5) \n",
    "lis3.append(5) \n",
    "lis4.append(5) \n",
    "\n",
    "# Printing lists after adding new element \n",
    "# No change in old list \n",
    "print (\"The new list created using list.copy() : \" + str(lis2))\n",
    "print (\"The new list created using copy.copy() : \" + str(lis3))  \n",
    "print (\"The new list created using slicing : \" + str(lis4)) \n",
    "print (\"The old list after adding new element to new list : \" + str(lis1)) "
   ]
  },
  {
   "cell_type": "code",
   "execution_count": 163,
   "metadata": {},
   "outputs": [
    {
     "name": "stdout",
     "output_type": "stream",
     "text": [
      "initial dictionary =  {'name': 'akshat', 'name1': [1, 2], 'name2': 'vashu'}\n",
      "updated dictionary =  {'name': 'akshat', 'name1': ['nikhil', 2], 'name2': 'vashu'}\n"
     ]
    }
   ],
   "source": [
    "# initialising dictionary \n",
    "import copy\n",
    "test1 = {\"name\" : \"akshat\", \"name1\" : [1,2], \"name2\" : \"vashu\"} \n",
    "  \n",
    "  \n",
    "# method to copy dictionary using copy() function \n",
    "#test2 = test1.copy() \n",
    "test2 = copy.deepcopy(test1) \n",
    "  \n",
    "  \n",
    "# updating test2 \n",
    "test2[\"name1\"][0] =\"nikhil\"\n",
    "  \n",
    "# print initial dictionary \n",
    "print(\"initial dictionary = \", test1) \n",
    "  \n",
    "# printing updated dictionary \n",
    "print(\"updated dictionary = \", test2) "
   ]
  },
  {
   "cell_type": "code",
   "execution_count": 172,
   "metadata": {},
   "outputs": [
    {
     "name": "stdout",
     "output_type": "stream",
     "text": [
      "1 rajesh\n",
      "2 deepak\n",
      "3 mukesh\n",
      "1 rajesh\n",
      "2 deepak\n",
      "3 mukesh\n"
     ]
    }
   ],
   "source": [
    "l1 = {1:'rajesh',2:'deepak',3:'mukesh'}\n",
    "for i,v in l1.items():\n",
    "    print(i,v)\n",
    "\n",
    "l1 = ['rajesh','deepak','mukesh']\n",
    "for i,v in enumerate(l1, start=1):\n",
    "    print(i,v)"
   ]
  },
  {
   "cell_type": "code",
   "execution_count": 178,
   "metadata": {},
   "outputs": [
    {
     "name": "stdout",
     "output_type": "stream",
     "text": [
      "1\n",
      "1\n",
      "2\n",
      "3\n",
      "5\n",
      "8\n",
      "13\n",
      "21\n",
      "34\n",
      "55\n"
     ]
    },
    {
     "ename": "StopIteration",
     "evalue": "",
     "output_type": "error",
     "traceback": [
      "\u001b[0;31m---------------------------------------------------------------------------\u001b[0m",
      "\u001b[0;31mStopIteration\u001b[0m                             Traceback (most recent call last)",
      "\u001b[0;32m<ipython-input-178-dbbccec98e73>\u001b[0m in \u001b[0;36m<module>\u001b[0;34m\u001b[0m\n\u001b[1;32m     19\u001b[0m \u001b[0mprint\u001b[0m\u001b[0;34m(\u001b[0m\u001b[0mnext\u001b[0m\u001b[0;34m(\u001b[0m\u001b[0mgen\u001b[0m\u001b[0;34m)\u001b[0m\u001b[0;34m)\u001b[0m\u001b[0;34m\u001b[0m\u001b[0;34m\u001b[0m\u001b[0m\n\u001b[1;32m     20\u001b[0m \u001b[0mprint\u001b[0m\u001b[0;34m(\u001b[0m\u001b[0mnext\u001b[0m\u001b[0;34m(\u001b[0m\u001b[0mgen\u001b[0m\u001b[0;34m)\u001b[0m\u001b[0;34m)\u001b[0m\u001b[0;34m\u001b[0m\u001b[0;34m\u001b[0m\u001b[0m\n\u001b[0;32m---> 21\u001b[0;31m \u001b[0mprint\u001b[0m\u001b[0;34m(\u001b[0m\u001b[0mnext\u001b[0m\u001b[0;34m(\u001b[0m\u001b[0mgen\u001b[0m\u001b[0;34m)\u001b[0m\u001b[0;34m)\u001b[0m\u001b[0;34m\u001b[0m\u001b[0;34m\u001b[0m\u001b[0m\n\u001b[0m\u001b[1;32m     22\u001b[0m \u001b[0mprint\u001b[0m\u001b[0;34m(\u001b[0m\u001b[0mnext\u001b[0m\u001b[0;34m(\u001b[0m\u001b[0mgen\u001b[0m\u001b[0;34m)\u001b[0m\u001b[0;34m)\u001b[0m\u001b[0;34m\u001b[0m\u001b[0;34m\u001b[0m\u001b[0m\n",
      "\u001b[0;31mStopIteration\u001b[0m: "
     ]
    }
   ],
   "source": [
    "def fibonacci(n):\n",
    "    curr = 1\n",
    "    prev = 0\n",
    "    counter = 0\n",
    "    while counter < n:\n",
    "        yield curr\n",
    "        prev, curr = curr, prev + curr\n",
    "        counter += 1\n",
    "        \n",
    "gen = fibonacci(10)\n",
    "print(next(gen))\n",
    "print(next(gen))\n",
    "print(next(gen))\n",
    "print(next(gen))\n",
    "print(next(gen))\n",
    "print(next(gen))\n",
    "print(next(gen))\n",
    "print(next(gen))\n",
    "print(next(gen))\n",
    "print(next(gen))\n",
    "print(next(gen))\n",
    "print(next(gen))"
   ]
  },
  {
   "cell_type": "code",
   "execution_count": 181,
   "metadata": {},
   "outputs": [
    {
     "name": "stdout",
     "output_type": "stream",
     "text": [
      "<class 'str'>\n",
      "<class 'tuple'>\n"
     ]
    }
   ],
   "source": [
    "s1 = 'hello'\n",
    "s2 = 'hello',\n",
    "print(type(s1))\n",
    "print(type(s2))"
   ]
  },
  {
   "cell_type": "code",
   "execution_count": 186,
   "metadata": {},
   "outputs": [
    {
     "name": "stdout",
     "output_type": "stream",
     "text": [
      "1 4\n",
      "2 5\n",
      "3 6\n",
      "(1, 4) 1 4\n",
      "(2, 5) 2 5\n",
      "(3, 6) 3 6\n"
     ]
    }
   ],
   "source": [
    "a = [1,2,3]\n",
    "b = [4,5,6]\n",
    "for i,j in zip(a,b):\n",
    "    print(i,j)\n",
    "\n",
    "for s in zip(a,b):\n",
    "    i,j = s\n",
    "    print(s,i,j)\n"
   ]
  },
  {
   "cell_type": "code",
   "execution_count": null,
   "metadata": {},
   "outputs": [],
   "source": [
    "d = {'sape': 4098, 'jack': 4139}\n",
    "print(list(d))\n",
    "print('sape' in d)"
   ]
  },
  {
   "cell_type": "code",
   "execution_count": 194,
   "metadata": {},
   "outputs": [
    {
     "name": "stdout",
     "output_type": "stream",
     "text": [
      "What is your NAME?  It is lancelot.\n",
      "What is your QUEST?  It is the holy grail.\n",
      "What is your FAVORITE COLOR?  It is blue.\n"
     ]
    }
   ],
   "source": [
    "questions = ['name', 'quest', 'favorite color']\n",
    "answers = ['lancelot', 'the holy grail', 'blue']\n",
    "for q, a in zip(questions, answers):\n",
    "    print(f'What is your {q.upper()}?  It is {a}.')"
   ]
  },
  {
   "cell_type": "code",
   "execution_count": 198,
   "metadata": {},
   "outputs": [
    {
     "name": "stdout",
     "output_type": "stream",
     "text": [
      "In : \n",
      "...: \n",
      "['/anaconda3/lib/python3.7/site-packages/ray/pyarrow_files', '/Users/rkumar/Documents/sublime/python_learning/gender_prediction', '/anaconda3/lib/python3.7', '/anaconda3/lib/python3.7/site-packages', '/Users/rkumar/Documents/sublime/python_learning/gender_prediction', '/anaconda3/lib/python3.7', '/anaconda3/lib/python3.7', '/anaconda3/lib/python3.7/site-packages', '/Users/rkumar/Documents/sublime/python_learning/gender_prediction', '/anaconda3/lib/python37.zip', '/anaconda3/lib/python3.7', '/anaconda3/lib/python3.7/lib-dynload', '', '/anaconda3/lib/python3.7/site-packages', '/anaconda3/lib/python3.7/site-packages/aeosa', '/anaconda3/lib/python3.7/site-packages/IPython/extensions', '/Users/rkumar/.ipython', '/anaconda3/lib/python3.7/site-packages/ray/modin']\n"
     ]
    }
   ],
   "source": [
    "import sys\n",
    "print(sys.ps1)\n",
    "print(sys.ps2)\n",
    "print(sys.path)"
   ]
  },
  {
   "cell_type": "code",
   "execution_count": null,
   "metadata": {},
   "outputs": [],
   "source": [
    "import builtins\n",
    "dir(builtins)"
   ]
  },
  {
   "cell_type": "code",
   "execution_count": 204,
   "metadata": {},
   "outputs": [
    {
     "name": "stdout",
     "output_type": "stream",
     "text": [
      "Help on method_descriptor:\n",
      "\n",
      "upper(self, /)\n",
      "    Return a copy of the string converted to uppercase.\n",
      "\n"
     ]
    }
   ],
   "source": [
    "help(str.upper)"
   ]
  },
  {
   "cell_type": "code",
   "execution_count": 225,
   "metadata": {},
   "outputs": [
    {
     "data": {
      "text/plain": [
       "'c YES votes  25.123'"
      ]
     },
     "execution_count": 225,
     "metadata": {},
     "output_type": "execute_result"
    }
   ],
   "source": [
    "'{:0x} YES votes  {:.3f}'.format(12, 25.12345)"
   ]
  },
  {
   "cell_type": "code",
   "execution_count": 235,
   "metadata": {},
   "outputs": [
    {
     "name": "stdout",
     "output_type": "stream",
     "text": [
      " 1   1    1\n",
      " 2   4    8\n",
      " 3   9   27\n",
      " 4  16   64\n",
      " 5  25  125\n",
      " 6  36  216\n",
      " 7  49  343\n",
      " 8  64  512\n",
      " 9  81  729\n",
      "10 100 1000\n"
     ]
    }
   ],
   "source": [
    "for x in range(1, 11):\n",
    "    print('{:2d} {:3d} {:4d}'.format(x, x*x, x*x*x))"
   ]
  },
  {
   "cell_type": "code",
   "execution_count": 240,
   "metadata": {},
   "outputs": [
    {
     "name": "stdout",
     "output_type": "stream",
     "text": [
      "   4\n",
      "0004\n"
     ]
    }
   ],
   "source": [
    "print(repr(4).rjust(4))\n",
    "print(str(4).zfill(4))"
   ]
  },
  {
   "cell_type": "code",
   "execution_count": 245,
   "metadata": {},
   "outputs": [
    {
     "data": {
      "text/plain": [
       "'[\"key\", \"value\"]'"
      ]
     },
     "execution_count": 245,
     "metadata": {},
     "output_type": "execute_result"
    }
   ],
   "source": [
    "import json\n",
    "s = json.dumps(['key', 'value'])\n",
    "s"
   ]
  },
  {
   "cell_type": "code",
   "execution_count": 246,
   "metadata": {},
   "outputs": [
    {
     "ename": "AttributeError",
     "evalue": "'str' object has no attribute 'read'",
     "output_type": "error",
     "traceback": [
      "\u001b[0;31m---------------------------------------------------------------------------\u001b[0m",
      "\u001b[0;31mAttributeError\u001b[0m                            Traceback (most recent call last)",
      "\u001b[0;32m<ipython-input-246-fb8373f71b01>\u001b[0m in \u001b[0;36m<module>\u001b[0;34m\u001b[0m\n\u001b[0;32m----> 1\u001b[0;31m \u001b[0mjson\u001b[0m\u001b[0;34m.\u001b[0m\u001b[0mload\u001b[0m\u001b[0;34m(\u001b[0m\u001b[0ms\u001b[0m\u001b[0;34m)\u001b[0m\u001b[0;34m\u001b[0m\u001b[0;34m\u001b[0m\u001b[0m\n\u001b[0m",
      "\u001b[0;32m/anaconda3/lib/python3.7/json/__init__.py\u001b[0m in \u001b[0;36mload\u001b[0;34m(fp, cls, object_hook, parse_float, parse_int, parse_constant, object_pairs_hook, **kw)\u001b[0m\n\u001b[1;32m    291\u001b[0m     \u001b[0mkwarg\u001b[0m\u001b[0;34m;\u001b[0m \u001b[0motherwise\u001b[0m\u001b[0;31m \u001b[0m\u001b[0;31m`\u001b[0m\u001b[0;31m`\u001b[0m\u001b[0mJSONDecoder\u001b[0m\u001b[0;31m`\u001b[0m\u001b[0;31m`\u001b[0m \u001b[0;32mis\u001b[0m \u001b[0mused\u001b[0m\u001b[0;34m.\u001b[0m\u001b[0;34m\u001b[0m\u001b[0;34m\u001b[0m\u001b[0m\n\u001b[1;32m    292\u001b[0m     \"\"\"\n\u001b[0;32m--> 293\u001b[0;31m     return loads(fp.read(),\n\u001b[0m\u001b[1;32m    294\u001b[0m         \u001b[0mcls\u001b[0m\u001b[0;34m=\u001b[0m\u001b[0mcls\u001b[0m\u001b[0;34m,\u001b[0m \u001b[0mobject_hook\u001b[0m\u001b[0;34m=\u001b[0m\u001b[0mobject_hook\u001b[0m\u001b[0;34m,\u001b[0m\u001b[0;34m\u001b[0m\u001b[0;34m\u001b[0m\u001b[0m\n\u001b[1;32m    295\u001b[0m         \u001b[0mparse_float\u001b[0m\u001b[0;34m=\u001b[0m\u001b[0mparse_float\u001b[0m\u001b[0;34m,\u001b[0m \u001b[0mparse_int\u001b[0m\u001b[0;34m=\u001b[0m\u001b[0mparse_int\u001b[0m\u001b[0;34m,\u001b[0m\u001b[0;34m\u001b[0m\u001b[0;34m\u001b[0m\u001b[0m\n",
      "\u001b[0;31mAttributeError\u001b[0m: 'str' object has no attribute 'read'"
     ]
    }
   ],
   "source": [
    "json.load(s)"
   ]
  }
 ],
 "metadata": {
  "kernelspec": {
   "display_name": "Python 3",
   "language": "python",
   "name": "python3"
  },
  "language_info": {
   "codemirror_mode": {
    "name": "ipython",
    "version": 3
   },
   "file_extension": ".py",
   "mimetype": "text/x-python",
   "name": "python",
   "nbconvert_exporter": "python",
   "pygments_lexer": "ipython3",
   "version": "3.7.3"
  }
 },
 "nbformat": 4,
 "nbformat_minor": 2
}
