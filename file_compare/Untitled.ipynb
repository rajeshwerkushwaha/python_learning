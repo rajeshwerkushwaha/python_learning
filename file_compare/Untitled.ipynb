{
 "cells": [
  {
   "cell_type": "code",
   "execution_count": null,
   "metadata": {},
   "outputs": [],
   "source": [
    "import pandas as pd\n",
    "\n",
    "df1 = pd.read_csv('td_file.csv', index_col='ID')\n",
    "df2 = pd.read_csv('sf_file.csv', index_col='ID')\n",
    "\n",
    "def fix_datetime(val):\n",
    "    if isinstance(val, str) and val[-4:]=='.000':\n",
    "        return val[:-4]\n",
    "    else:\n",
    "        return val\n",
    "# fill nan with [NULL] string\n",
    "df2 = df2.fillna('[NULL]')\n",
    "# fix datetime where remove the last 4 chars .000\n",
    "df2 = df2.applymap(fix_datetime)\n",
    "# fix the partition_id column include , in integer value\n",
    "df2['partition_id'] = df2['partition_id'].apply(lambda x: format(x, \",\"))\n",
    "# fix priority column convert float to int\n",
    "df2['priority'] = df2['priority'].astype(str)\n",
    "df2['priority'] = df2['priority'].replace('[NULL]','11111.0')\n",
    "df2['priority'] = df2['priority'].astype(float).astype(int).astype(str)\n",
    "df2['priority'] = df2['priority'].replace('11111','[NULL]')\n",
    "\n",
    "count = 0\n",
    "for row in df1.iterrows():\n",
    "    id = row[0]\n",
    "    r1 = row[1]\n",
    "    r2 = df2.loc[id]\n",
    "    temp = [i for i in r1.index if r1[i]!=r2[i]]\n",
    "    if len(temp)==0:\n",
    "        continue\n",
    "    else:\n",
    "        print(id, temp)"
   ]
  },
  {
   "cell_type": "code",
   "execution_count": null,
   "metadata": {},
   "outputs": [],
   "source": [
    "import pandas as pd\n",
    "\n",
    "df1 = pd.read_csv('data/td_fact_points.csv')\n",
    "df2 = pd.read_csv('data/sf_fact_points.csv')\n",
    "\n",
    "df1 = df1.drop(['created_date', 'modified_date'], axis = 1) \n",
    "df2 = df2.drop(['created_date', 'modified_date'], axis = 1) \n",
    "\n",
    "def fix_datetime(val):\n",
    "    if isinstance(val, str) and val[-4:]=='.000':\n",
    "        return val[:-4]\n",
    "    else:\n",
    "        return val\n",
    "# fill nan with [NULL] string\n",
    "df2 = df2.fillna('[NULL]')\n",
    "# fix datetime where remove the last 4 chars .000\n",
    "df2 = df2.applymap(fix_datetime)\n",
    "# fix the partition_id column include , in integer value\n",
    "cols = ['point_transaction_id','point_date_key','wf_key','point_allocation_id','user_id','groupon_account_id']\n",
    "for col in cols:\n",
    "    df2[col] = df2[col].apply(lambda x: format(x, \",\"))\n",
    "    \n",
    "df1['point_amount'] = df1['point_amount'].apply(lambda x: x.replace(',',''))\n",
    "df1['point_amount'] = df1['point_amount'].apply(lambda x: str(\"{:.2f}\".format(float(x))))\n",
    "df2['point_amount'] = df2['point_amount'].apply(lambda x: str(\"{:.2f}\".format(float(x))))\n",
    "\n",
    "df1.set_index('point_transaction_id', inplace=True)\n",
    "df2.set_index('point_transaction_id', inplace=True)\n",
    "\n",
    "count = 0\n",
    "for row in df1.iterrows():\n",
    "    id = row[0]\n",
    "    r1 = row[1]\n",
    "    r2 = df2.loc[id]\n",
    "    temp = [i for i in r1.index if r1[i]!=r2[i]]\n",
    "    if len(temp)==0:\n",
    "        continue\n",
    "    else:\n",
    "        print(id, temp)"
   ]
  },
  {
   "cell_type": "code",
   "execution_count": null,
   "metadata": {},
   "outputs": [],
   "source": [
    "count = 0\n",
    "for row in df1.iterrows():\n",
    "    id = row[0]\n",
    "    r1 = row[1]\n",
    "    r2 = df2.loc[id]\n",
    "    temp = [i for i in r1.index if r1[i]!=r2[i]]\n",
    "    if len(temp)==0:\n",
    "        continue\n",
    "    else:\n",
    "        print(id, temp)\n",
    "    "
   ]
  },
  {
   "cell_type": "code",
   "execution_count": null,
   "metadata": {},
   "outputs": [],
   "source": [
    "df1.head(1347)\n",
    "df1.loc['315,527,333']"
   ]
  },
  {
   "cell_type": "code",
   "execution_count": null,
   "metadata": {},
   "outputs": [],
   "source": [
    "# df2[df2['point_transaction_id']=='315,527,333']\n",
    "df2.loc['315,527,333']"
   ]
  },
  {
   "cell_type": "code",
   "execution_count": null,
   "metadata": {},
   "outputs": [],
   "source": [
    "for val in df1['point_amount'].items():\n",
    "    print(val)"
   ]
  },
  {
   "cell_type": "code",
   "execution_count": null,
   "metadata": {},
   "outputs": [],
   "source": [
    "def sanitize(val):\n",
    "    if isinstance(val, str) and val[-4:]=='.000':\n",
    "        return val[:-4]\n",
    "    else:\n",
    "        return val"
   ]
  },
  {
   "cell_type": "code",
   "execution_count": null,
   "metadata": {},
   "outputs": [],
   "source": [
    "temp_df = pd.DataFrame([['2020-04-30 09:28:44.000', 90000000]] * 3, columns=['A', 'B'])\n",
    "print(temp_df)\n",
    "\n",
    "temp_df = temp_df.applymap(sanitize)"
   ]
  },
  {
   "cell_type": "code",
   "execution_count": null,
   "metadata": {},
   "outputs": [],
   "source": [
    "df2.loc['a123c00000Pfds6AAB'].partition_id\n",
    "print(df1.loc['a123c00000Pfds6AAB'].partition_id)\n",
    "print(format(df2.loc['a123c00000Pfds6AAB'].partition_id, \",\"))\n",
    "\n",
    "# format(x, \",\")\n",
    "\n",
    "temp_df['B'] = temp_df['B'].apply(lambda x: format(x, \",\"))\n"
   ]
  },
  {
   "cell_type": "code",
   "execution_count": null,
   "metadata": {},
   "outputs": [],
   "source": [
    "temp_df = pd.DataFrame([['2020-04-30 09:28:44.000', '-1499.0']] * 3, columns=['A', 'B'])\n",
    "print(temp_df)\n",
    "temp_df['B'].astype(float)\n",
    "\n",
    "temp_df['B'] = temp_df['B'].apply(lambda x: str(\"{:.2f}\".format(float(x))))\n",
    "temp_df"
   ]
  }
 ],
 "metadata": {
  "kernelspec": {
   "display_name": "Python 3",
   "language": "python",
   "name": "python3"
  },
  "language_info": {
   "codemirror_mode": {
    "name": "ipython",
    "version": 3
   },
   "file_extension": ".py",
   "mimetype": "text/x-python",
   "name": "python",
   "nbconvert_exporter": "python",
   "pygments_lexer": "ipython3",
   "version": "3.7.3"
  }
 },
 "nbformat": 4,
 "nbformat_minor": 2
}
